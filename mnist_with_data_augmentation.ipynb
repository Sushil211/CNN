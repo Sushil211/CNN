{
  "nbformat": 4,
  "nbformat_minor": 0,
  "metadata": {
    "colab": {
      "name": "mnist with data augmentation.ipynb",
      "provenance": [],
      "authorship_tag": "ABX9TyPBWvrWtrYF8PM3mw8b2TUe",
      "include_colab_link": true
    },
    "kernelspec": {
      "name": "python3",
      "display_name": "Python 3"
    },
    "accelerator": "GPU"
  },
  "cells": [
    {
      "cell_type": "markdown",
      "metadata": {
        "id": "view-in-github",
        "colab_type": "text"
      },
      "source": [
        "<a href=\"https://colab.research.google.com/github/Sushil211/CNN/blob/master/mnist_with_data_augmentation.ipynb\" target=\"_parent\"><img src=\"https://colab.research.google.com/assets/colab-badge.svg\" alt=\"Open In Colab\"/></a>"
      ]
    },
    {
      "cell_type": "code",
      "metadata": {
        "id": "IKh4zvGJzerb",
        "colab_type": "code",
        "colab": {}
      },
      "source": [
        "import numpy as np\n",
        "import matplotlib.pyplot as plt\n",
        "\n",
        "from tensorflow.keras.datasets import mnist\n",
        "from tensorflow.keras.utils import to_categorical\n",
        "\n",
        "from tensorflow.keras.preprocessing.image import ImageDataGenerator"
      ],
      "execution_count": 1,
      "outputs": []
    },
    {
      "cell_type": "code",
      "metadata": {
        "id": "g-HC4phjzseS",
        "colab_type": "code",
        "colab": {
          "base_uri": "https://localhost:8080/",
          "height": 50
        },
        "outputId": "26ba7aba-d471-416f-fbe1-fe5540531e75"
      },
      "source": [
        "(x_train, y_train), (x_test, y_test) = mnist.load_data()"
      ],
      "execution_count": 2,
      "outputs": [
        {
          "output_type": "stream",
          "text": [
            "Downloading data from https://storage.googleapis.com/tensorflow/tf-keras-datasets/mnist.npz\n",
            "11493376/11490434 [==============================] - 0s 0us/step\n"
          ],
          "name": "stdout"
        }
      ]
    },
    {
      "cell_type": "code",
      "metadata": {
        "id": "abgg7QIq0OIP",
        "colab_type": "code",
        "colab": {}
      },
      "source": [
        "generator = ImageDataGenerator(rotation_range=15, shear_range=0.1, zoom_range=0.3)"
      ],
      "execution_count": 3,
      "outputs": []
    },
    {
      "cell_type": "code",
      "metadata": {
        "id": "MG2PbuZu0QkG",
        "colab_type": "code",
        "colab": {}
      },
      "source": [
        "flow = generator.flow(x_train.reshape(-1, 28, 28, 1), to_categorical(y_train, num_classes=10), batch_size=1000)"
      ],
      "execution_count": 6,
      "outputs": []
    },
    {
      "cell_type": "code",
      "metadata": {
        "id": "SEspb-_n0aeB",
        "colab_type": "code",
        "colab": {}
      },
      "source": [
        "from tensorflow.keras.layers import Input, Dense, Reshape, Flatten, Conv2D, MaxPooling2D\n",
        "from tensorflow.keras.models import Model"
      ],
      "execution_count": 7,
      "outputs": []
    },
    {
      "cell_type": "code",
      "metadata": {
        "id": "P4_Cz6vs0hN8",
        "colab_type": "code",
        "colab": {}
      },
      "source": [
        "in_layer = Input(shape=(28,28 ,1))\n",
        "\n",
        "conv = Conv2D(filters=60, kernel_size=3)(in_layer)\n",
        "pooling = MaxPooling2D()(conv)\n",
        "conv = Conv2D(filters=60, kernel_size=3)(pooling)\n",
        "pooling = MaxPooling2D()(conv)\n",
        "conv = Conv2D(filters=60, kernel_size=3)(pooling)\n",
        "pooling = MaxPooling2D()(conv)\n",
        "\n",
        "flat = Flatten()(pooling)\n",
        "\n",
        "d1 = Dense(units = 400, activation=\"tanh\")(flat)\n",
        "d2 = Dense(units=100, activation=\"tanh\")(d1)\n",
        "out_layer = Dense(units=10, activation=\"softmax\")(d2)"
      ],
      "execution_count": 8,
      "outputs": []
    },
    {
      "cell_type": "code",
      "metadata": {
        "id": "CDFrQsXP1Exo",
        "colab_type": "code",
        "colab": {
          "base_uri": "https://localhost:8080/",
          "height": 521
        },
        "outputId": "5cae4107-4a49-4133-b21d-f0b7e21922e1"
      },
      "source": [
        "model = Model(in_layer, out_layer)\n",
        "model.summary()"
      ],
      "execution_count": 9,
      "outputs": [
        {
          "output_type": "stream",
          "text": [
            "Model: \"model\"\n",
            "_________________________________________________________________\n",
            "Layer (type)                 Output Shape              Param #   \n",
            "=================================================================\n",
            "input_1 (InputLayer)         [(None, 28, 28, 1)]       0         \n",
            "_________________________________________________________________\n",
            "conv2d (Conv2D)              (None, 26, 26, 60)        600       \n",
            "_________________________________________________________________\n",
            "max_pooling2d (MaxPooling2D) (None, 13, 13, 60)        0         \n",
            "_________________________________________________________________\n",
            "conv2d_1 (Conv2D)            (None, 11, 11, 60)        32460     \n",
            "_________________________________________________________________\n",
            "max_pooling2d_1 (MaxPooling2 (None, 5, 5, 60)          0         \n",
            "_________________________________________________________________\n",
            "conv2d_2 (Conv2D)            (None, 3, 3, 60)          32460     \n",
            "_________________________________________________________________\n",
            "max_pooling2d_2 (MaxPooling2 (None, 1, 1, 60)          0         \n",
            "_________________________________________________________________\n",
            "flatten (Flatten)            (None, 60)                0         \n",
            "_________________________________________________________________\n",
            "dense (Dense)                (None, 400)               24400     \n",
            "_________________________________________________________________\n",
            "dense_1 (Dense)              (None, 100)               40100     \n",
            "_________________________________________________________________\n",
            "dense_2 (Dense)              (None, 10)                1010      \n",
            "=================================================================\n",
            "Total params: 131,030\n",
            "Trainable params: 131,030\n",
            "Non-trainable params: 0\n",
            "_________________________________________________________________\n"
          ],
          "name": "stdout"
        }
      ]
    },
    {
      "cell_type": "code",
      "metadata": {
        "id": "0BtpTo4y1LtM",
        "colab_type": "code",
        "colab": {}
      },
      "source": [
        "model.compile(optimizer='adam', loss='categorical_crossentropy', metrics=['accuracy'])"
      ],
      "execution_count": 10,
      "outputs": []
    },
    {
      "cell_type": "code",
      "metadata": {
        "id": "FW6P2xoT1fPH",
        "colab_type": "code",
        "colab": {
          "base_uri": "https://localhost:8080/",
          "height": 370
        },
        "outputId": "4ea6b24f-50f1-4c4b-c331-f9e33a5b7e51"
      },
      "source": [
        "model.fit_generator(flow, steps_per_epoch=10, epochs=10)"
      ],
      "execution_count": 12,
      "outputs": [
        {
          "output_type": "stream",
          "text": [
            "Epoch 1/10\n",
            "10/10 [==============================] - 2s 244ms/step - loss: 0.3549 - accuracy: 0.8930\n",
            "Epoch 2/10\n",
            "10/10 [==============================] - 2s 244ms/step - loss: 0.3293 - accuracy: 0.8987\n",
            "Epoch 3/10\n",
            "10/10 [==============================] - 2s 239ms/step - loss: 0.3396 - accuracy: 0.8967\n",
            "Epoch 4/10\n",
            "10/10 [==============================] - 2s 239ms/step - loss: 0.2772 - accuracy: 0.9177\n",
            "Epoch 5/10\n",
            "10/10 [==============================] - 2s 241ms/step - loss: 0.2768 - accuracy: 0.9149\n",
            "Epoch 6/10\n",
            "10/10 [==============================] - 2s 239ms/step - loss: 0.2517 - accuracy: 0.9237\n",
            "Epoch 7/10\n",
            "10/10 [==============================] - 2s 240ms/step - loss: 0.2324 - accuracy: 0.9300\n",
            "Epoch 8/10\n",
            "10/10 [==============================] - 2s 241ms/step - loss: 0.2173 - accuracy: 0.9356\n",
            "Epoch 9/10\n",
            "10/10 [==============================] - 2s 243ms/step - loss: 0.2070 - accuracy: 0.9385\n",
            "Epoch 10/10\n",
            "10/10 [==============================] - 2s 240ms/step - loss: 0.2013 - accuracy: 0.9400\n"
          ],
          "name": "stdout"
        },
        {
          "output_type": "execute_result",
          "data": {
            "text/plain": [
              "<tensorflow.python.keras.callbacks.History at 0x7f24c5d5c5f8>"
            ]
          },
          "metadata": {
            "tags": []
          },
          "execution_count": 12
        }
      ]
    },
    {
      "cell_type": "code",
      "metadata": {
        "id": "he7R4-ig1rC5",
        "colab_type": "code",
        "colab": {
          "base_uri": "https://localhost:8080/",
          "height": 50
        },
        "outputId": "52a64e23-126c-47b3-d5b4-236b49019bd5"
      },
      "source": [
        "model.evaluate(x_train, to_categorical(y_train, num_classes=10))"
      ],
      "execution_count": 14,
      "outputs": [
        {
          "output_type": "stream",
          "text": [
            "1875/1875 [==============================] - 7s 4ms/step - loss: 0.1340 - accuracy: 0.9621\n"
          ],
          "name": "stdout"
        },
        {
          "output_type": "execute_result",
          "data": {
            "text/plain": [
              "[0.13397331535816193, 0.9621166586875916]"
            ]
          },
          "metadata": {
            "tags": []
          },
          "execution_count": 14
        }
      ]
    },
    {
      "cell_type": "code",
      "metadata": {
        "id": "m393lD1i2ArX",
        "colab_type": "code",
        "colab": {
          "base_uri": "https://localhost:8080/",
          "height": 50
        },
        "outputId": "e92fc073-4b9c-4131-99b0-7bf8e708e5cb"
      },
      "source": [
        "model.evaluate(x_test, to_categorical(y_test, num_classes=10))"
      ],
      "execution_count": 15,
      "outputs": [
        {
          "output_type": "stream",
          "text": [
            "313/313 [==============================] - 2s 5ms/step - loss: 0.1253 - accuracy: 0.9656\n"
          ],
          "name": "stdout"
        },
        {
          "output_type": "execute_result",
          "data": {
            "text/plain": [
              "[0.1252574771642685, 0.9656000137329102]"
            ]
          },
          "metadata": {
            "tags": []
          },
          "execution_count": 15
        }
      ]
    },
    {
      "cell_type": "markdown",
      "metadata": {
        "id": "3NiU-A3_2j0h",
        "colab_type": "text"
      },
      "source": [
        "<b>This accuracy may seem to be slghtly lesser than simple cnn without data augmentation, but this model is more generalized and performs better in real life data.</b>"
      ]
    }
  ]
}