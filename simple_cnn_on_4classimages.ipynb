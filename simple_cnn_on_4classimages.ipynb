{
  "nbformat": 4,
  "nbformat_minor": 0,
  "metadata": {
    "colab": {
      "name": "simple cnn on 4classimages.ipynb",
      "provenance": [],
      "toc_visible": true,
      "authorship_tag": "ABX9TyNv6YYfZwc+jXAhMQ2Dj1Jd",
      "include_colab_link": true
    },
    "kernelspec": {
      "name": "python3",
      "display_name": "Python 3"
    },
    "accelerator": "GPU"
  },
  "cells": [
    {
      "cell_type": "markdown",
      "metadata": {
        "id": "view-in-github",
        "colab_type": "text"
      },
      "source": [
        "<a href=\"https://colab.research.google.com/github/Sushil211/CNN/blob/master/simple_cnn_on_4classimages.ipynb\" target=\"_parent\"><img src=\"https://colab.research.google.com/assets/colab-badge.svg\" alt=\"Open In Colab\"/></a>"
      ]
    },
    {
      "cell_type": "code",
      "metadata": {
        "id": "g_a_DYQJmE0O",
        "colab_type": "code",
        "colab": {
          "base_uri": "https://localhost:8080/",
          "height": 151
        },
        "outputId": "7ac263c0-c394-4aaa-cde6-c2d3d09d4f7b"
      },
      "source": [
        "! kaggle"
      ],
      "execution_count": 3,
      "outputs": [
        {
          "output_type": "stream",
          "text": [
            "Traceback (most recent call last):\n",
            "  File \"/usr/local/bin/kaggle\", line 5, in <module>\n",
            "    from kaggle.cli import main\n",
            "  File \"/usr/local/lib/python2.7/dist-packages/kaggle/__init__.py\", line 23, in <module>\n",
            "    api.authenticate()\n",
            "  File \"/usr/local/lib/python2.7/dist-packages/kaggle/api/kaggle_api_extended.py\", line 146, in authenticate\n",
            "    self.config_file, self.config_dir))\n",
            "IOError: Could not find kaggle.json. Make sure it's located in /root/.kaggle. Or use the environment method.\n"
          ],
          "name": "stdout"
        }
      ]
    },
    {
      "cell_type": "code",
      "metadata": {
        "id": "q9gaqtJtnxOv",
        "colab_type": "code",
        "colab": {}
      },
      "source": [
        "! cp kaggle.json /root/.kaggle/kaggle.json"
      ],
      "execution_count": 4,
      "outputs": []
    },
    {
      "cell_type": "code",
      "metadata": {
        "id": "yrBoCPM5n_q8",
        "colab_type": "code",
        "colab": {
          "base_uri": "https://localhost:8080/",
          "height": 67
        },
        "outputId": "140da6bf-07d0-4404-f87f-e8cc940f4ce6"
      },
      "source": [
        "! kaggle"
      ],
      "execution_count": 5,
      "outputs": [
        {
          "output_type": "stream",
          "text": [
            "Warning: Your Kaggle API key is readable by other users on this system! To fix this, you can run 'chmod 600 /root/.kaggle/kaggle.json'\n",
            "usage: kaggle [-h] [-v] {competitions,c,datasets,d,kernels,k,config} ...\n",
            "kaggle: error: too few arguments\n"
          ],
          "name": "stdout"
        }
      ]
    },
    {
      "cell_type": "code",
      "metadata": {
        "id": "-r1NrT78oJLh",
        "colab_type": "code",
        "colab": {}
      },
      "source": [
        "! chmod 600 /root/.kaggle/kaggle.json #Giving Read write option only to the owner"
      ],
      "execution_count": 6,
      "outputs": []
    },
    {
      "cell_type": "code",
      "metadata": {
        "id": "EcUlpdU8oYCf",
        "colab_type": "code",
        "colab": {
          "base_uri": "https://localhost:8080/",
          "height": 67
        },
        "outputId": "00de89d6-6bb1-42bb-98f7-6d0a5fe3a0d7"
      },
      "source": [
        "! kaggle datasets download ellenyusa/4classimages"
      ],
      "execution_count": 7,
      "outputs": [
        {
          "output_type": "stream",
          "text": [
            "Downloading 4classimages.zip to /content\n",
            " 86% 33.0M/38.5M [00:01<00:00, 16.5MB/s]\n",
            "100% 38.5M/38.5M [00:01<00:00, 33.2MB/s]\n"
          ],
          "name": "stdout"
        }
      ]
    },
    {
      "cell_type": "code",
      "metadata": {
        "id": "zi_uMy2xpC4P",
        "colab_type": "code",
        "colab": {}
      },
      "source": [
        "! unzip -qq 4classimages.zip"
      ],
      "execution_count": 8,
      "outputs": []
    },
    {
      "cell_type": "code",
      "metadata": {
        "id": "HUFwlflSpP7_",
        "colab_type": "code",
        "colab": {}
      },
      "source": [
        "! rm -rf data/data"
      ],
      "execution_count": 9,
      "outputs": []
    },
    {
      "cell_type": "code",
      "metadata": {
        "id": "M7Gez_UcpZuF",
        "colab_type": "code",
        "colab": {}
      },
      "source": [
        "import numpy as np\n",
        "import matplotlib.pyplot as plt\n",
        "\n",
        "from tensorflow.keras.datasets import mnist\n",
        "from tensorflow.keras.utils import to_categorical\n",
        "\n",
        "from tensorflow.keras.preprocessing.image import ImageDataGenerator"
      ],
      "execution_count": 10,
      "outputs": []
    },
    {
      "cell_type": "code",
      "metadata": {
        "id": "3qgvalsEp1yw",
        "colab_type": "code",
        "colab": {
          "base_uri": "https://localhost:8080/",
          "height": 34
        },
        "outputId": "2ce5eaa2-32f4-4d85-f970-7ce7ff12fa9d"
      },
      "source": [
        "gen = ImageDataGenerator(rotation_range=15, shear_range=.1, zoom_range=.3)\n",
        "\n",
        "generator = gen.flow_from_directory(\"data/\")"
      ],
      "execution_count": 11,
      "outputs": [
        {
          "output_type": "stream",
          "text": [
            "Found 808 images belonging to 4 classes.\n"
          ],
          "name": "stdout"
        }
      ]
    },
    {
      "cell_type": "code",
      "metadata": {
        "id": "xRqmoG98p43p",
        "colab_type": "code",
        "colab": {
          "base_uri": "https://localhost:8080/",
          "height": 34
        },
        "outputId": "a7b261d9-1158-4aa6-b976-8d7aeb93b559"
      },
      "source": [
        "generator.class_indices"
      ],
      "execution_count": 12,
      "outputs": [
        {
          "output_type": "execute_result",
          "data": {
            "text/plain": [
              "{'Humans': 0, 'cats': 1, 'dogs': 2, 'horses': 3}"
            ]
          },
          "metadata": {
            "tags": []
          },
          "execution_count": 12
        }
      ]
    },
    {
      "cell_type": "code",
      "metadata": {
        "id": "E5eQ_CFqqBFL",
        "colab_type": "code",
        "colab": {
          "base_uri": "https://localhost:8080/",
          "height": 34
        },
        "outputId": "fb32a849-cdd0-48fd-db88-8db3c1bbea20"
      },
      "source": [
        "X, y = next(generator)\n",
        "X.shape, y.shape"
      ],
      "execution_count": 13,
      "outputs": [
        {
          "output_type": "execute_result",
          "data": {
            "text/plain": [
              "((32, 256, 256, 3), (32, 4))"
            ]
          },
          "metadata": {
            "tags": []
          },
          "execution_count": 13
        }
      ]
    },
    {
      "cell_type": "code",
      "metadata": {
        "id": "ze3pXZKHqFpD",
        "colab_type": "code",
        "colab": {
          "base_uri": "https://localhost:8080/",
          "height": 554
        },
        "outputId": "634e1371-3a6e-4063-8251-76f352678705"
      },
      "source": [
        "y #It is already converted to y_hot "
      ],
      "execution_count": 14,
      "outputs": [
        {
          "output_type": "execute_result",
          "data": {
            "text/plain": [
              "array([[0., 0., 1., 0.],\n",
              "       [0., 0., 0., 1.],\n",
              "       [0., 0., 0., 1.],\n",
              "       [1., 0., 0., 0.],\n",
              "       [1., 0., 0., 0.],\n",
              "       [1., 0., 0., 0.],\n",
              "       [1., 0., 0., 0.],\n",
              "       [1., 0., 0., 0.],\n",
              "       [0., 0., 0., 1.],\n",
              "       [0., 1., 0., 0.],\n",
              "       [0., 1., 0., 0.],\n",
              "       [0., 0., 1., 0.],\n",
              "       [1., 0., 0., 0.],\n",
              "       [0., 0., 0., 1.],\n",
              "       [0., 0., 1., 0.],\n",
              "       [0., 0., 1., 0.],\n",
              "       [0., 0., 1., 0.],\n",
              "       [0., 0., 0., 1.],\n",
              "       [1., 0., 0., 0.],\n",
              "       [1., 0., 0., 0.],\n",
              "       [0., 0., 0., 1.],\n",
              "       [0., 0., 0., 1.],\n",
              "       [0., 0., 0., 1.],\n",
              "       [0., 1., 0., 0.],\n",
              "       [0., 0., 0., 1.],\n",
              "       [0., 0., 1., 0.],\n",
              "       [0., 0., 1., 0.],\n",
              "       [0., 0., 0., 1.],\n",
              "       [0., 1., 0., 0.],\n",
              "       [1., 0., 0., 0.],\n",
              "       [0., 1., 0., 0.],\n",
              "       [1., 0., 0., 0.]], dtype=float32)"
            ]
          },
          "metadata": {
            "tags": []
          },
          "execution_count": 14
        }
      ]
    },
    {
      "cell_type": "code",
      "metadata": {
        "id": "8gAShuzAqNk-",
        "colab_type": "code",
        "colab": {
          "base_uri": "https://localhost:8080/",
          "height": 521
        },
        "outputId": "f1d3172f-2ddf-4cc6-ca4a-7404af617144"
      },
      "source": [
        "from tensorflow.keras.layers import Input, Dense, Reshape, Flatten, Conv2D, MaxPooling2D\n",
        "from tensorflow.keras.models import Model\n",
        "\n",
        "\n",
        "\n",
        "in_layer = Input(shape=(256, 256, 3))\n",
        "conv = Conv2D(filters=60, kernel_size=3)(in_layer)\n",
        "pooling = MaxPooling2D()(conv) \n",
        "conv = Conv2D(filters=60, kernel_size=3)(pooling)\n",
        "pooling = MaxPooling2D()(conv) \n",
        "conv = Conv2D(filters=60, kernel_size=3)(pooling)\n",
        "pooling = MaxPooling2D()(conv) \n",
        "flat = Flatten()(pooling)\n",
        "d1 = Dense(units=400, activation=\"tanh\")(flat)\n",
        "d2 = Dense(units=100, activation=\"tanh\")(d1)\n",
        "out_layer = Dense(units=4, activation=\"softmax\")(d2)\n",
        "\n",
        "model = Model(in_layer, out_layer)\n",
        "\n",
        "model.summary()\n",
        "\n",
        "model.compile(optimizer=\"adam\", loss=\"categorical_crossentropy\", metrics=[\"accuracy\"])"
      ],
      "execution_count": 15,
      "outputs": [
        {
          "output_type": "stream",
          "text": [
            "Model: \"model\"\n",
            "_________________________________________________________________\n",
            "Layer (type)                 Output Shape              Param #   \n",
            "=================================================================\n",
            "input_1 (InputLayer)         [(None, 256, 256, 3)]     0         \n",
            "_________________________________________________________________\n",
            "conv2d (Conv2D)              (None, 254, 254, 60)      1680      \n",
            "_________________________________________________________________\n",
            "max_pooling2d (MaxPooling2D) (None, 127, 127, 60)      0         \n",
            "_________________________________________________________________\n",
            "conv2d_1 (Conv2D)            (None, 125, 125, 60)      32460     \n",
            "_________________________________________________________________\n",
            "max_pooling2d_1 (MaxPooling2 (None, 62, 62, 60)        0         \n",
            "_________________________________________________________________\n",
            "conv2d_2 (Conv2D)            (None, 60, 60, 60)        32460     \n",
            "_________________________________________________________________\n",
            "max_pooling2d_2 (MaxPooling2 (None, 30, 30, 60)        0         \n",
            "_________________________________________________________________\n",
            "flatten (Flatten)            (None, 54000)             0         \n",
            "_________________________________________________________________\n",
            "dense (Dense)                (None, 400)               21600400  \n",
            "_________________________________________________________________\n",
            "dense_1 (Dense)              (None, 100)               40100     \n",
            "_________________________________________________________________\n",
            "dense_2 (Dense)              (None, 4)                 404       \n",
            "=================================================================\n",
            "Total params: 21,707,504\n",
            "Trainable params: 21,707,504\n",
            "Non-trainable params: 0\n",
            "_________________________________________________________________\n"
          ],
          "name": "stdout"
        }
      ]
    },
    {
      "cell_type": "code",
      "metadata": {
        "id": "ggeAiV8KqUUA",
        "colab_type": "code",
        "colab": {
          "base_uri": "https://localhost:8080/",
          "height": 272
        },
        "outputId": "495762e8-046e-43a5-e7c5-bfca09a221db"
      },
      "source": [
        "model.fit_generator(generator, steps_per_epoch=20, epochs=5)"
      ],
      "execution_count": 16,
      "outputs": [
        {
          "output_type": "stream",
          "text": [
            "WARNING:tensorflow:From <ipython-input-16-95443bca6907>:1: Model.fit_generator (from tensorflow.python.keras.engine.training) is deprecated and will be removed in a future version.\n",
            "Instructions for updating:\n",
            "Please use Model.fit, which supports generators.\n",
            "Epoch 1/5\n",
            "20/20 [==============================] - 11s 530ms/step - loss: 1.6049 - accuracy: 0.2656\n",
            "Epoch 2/5\n",
            "20/20 [==============================] - 11s 535ms/step - loss: 1.4198 - accuracy: 0.2175\n",
            "Epoch 3/5\n",
            "20/20 [==============================] - 11s 527ms/step - loss: 1.4022 - accuracy: 0.2305\n",
            "Epoch 4/5\n",
            "20/20 [==============================] - 11s 532ms/step - loss: 1.4051 - accuracy: 0.2321\n",
            "Epoch 5/5\n",
            "20/20 [==============================] - 11s 529ms/step - loss: 1.4066 - accuracy: 0.1997\n"
          ],
          "name": "stdout"
        },
        {
          "output_type": "execute_result",
          "data": {
            "text/plain": [
              "<tensorflow.python.keras.callbacks.History at 0x7fa4f27d7208>"
            ]
          },
          "metadata": {
            "tags": []
          },
          "execution_count": 16
        }
      ]
    },
    {
      "cell_type": "markdown",
      "metadata": {
        "id": "EWoDQcTXq-iA",
        "colab_type": "text"
      },
      "source": [
        "<b>Observe that accuracy is less than 20% for having only 4 class data. So simple cnn is unable to perform well in this type of dataset, hence we must use transfer learning to make our cnn model better and increase our accuracy.</b>"
      ]
    },
    {
      "cell_type": "code",
      "metadata": {
        "id": "PYCcBu9arazE",
        "colab_type": "code",
        "colab": {}
      },
      "source": [
        ""
      ],
      "execution_count": null,
      "outputs": []
    }
  ]
}